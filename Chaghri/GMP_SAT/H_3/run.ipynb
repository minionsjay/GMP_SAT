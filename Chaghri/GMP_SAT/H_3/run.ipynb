{
 "cells": [
  {
   "cell_type": "code",
   "execution_count": 11,
   "metadata": {
    "vscode": {
     "languageId": "python"
    }
   },
   "outputs": [
    {
     "name": "stdout",
     "output_type": "stream",
     "text": [
      "test_bound 64\n"
     ]
    }
   ],
   "source": [
    "## HD_run_process\n",
    "import subprocess\n",
    "\n",
    "for i in range(1,29):\n",
    "    minisat_command=[\"python3\",\"test_degree.py\",str(i),str(i+1),\"cryptominisat5\"]\n",
    "    cadical_command=[\"python3\",\"test_degree.py\",str(i),str(i+1),\"cadical\"]\n",
    "    subprocess.run(cadical_command,cwd=\"./\")"
   ]
  }
 ],
 "metadata": {
  "kernelspec": {
   "display_name": "SageMath 9.5",
   "language": "sage",
   "name": "sagemath"
  },
  "language_info": {
   "codemirror_mode": {
    "name": "ipython",
    "version": 3
   },
   "file_extension": ".py",
   "mimetype": "text/x-python",
   "name": "sage",
   "nbconvert_exporter": "python",
   "pygments_lexer": "ipython3",
   "version": "3.10.12"
  }
 },
 "nbformat": 4,
 "nbformat_minor": 2
}
