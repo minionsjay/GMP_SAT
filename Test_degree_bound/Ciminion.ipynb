{
 "cells": [
  {
   "cell_type": "code",
   "execution_count": 6,
   "metadata": {},
   "outputs": [
    {
     "name": "stdout",
     "output_type": "stream",
     "text": [
      "Finite Field in t of size 2^63\n",
      "Multivariate Polynomial Ring in x, k1, k2 over Finite Field in t of size 2^63\n",
      "Defining x, k1, k2\n",
      "upbound_degree x: [6, 6, 6]\n"
     ]
    }
   ],
   "source": [
    "# F.<t>=GF(previous_prime(2^64))\n",
    "F.<t>=GF(2^63)\n",
    "print(F)\n",
    "\n",
    "R=PolynomialRing(F,(\"x\",\"k1\",\"k2\"))\n",
    "print(R)\n",
    "R.inject_variables()\n",
    "\n",
    "rounds=int(input(\"输入轮数\"))\n",
    "\n",
    "states=vector([x,k1,k2])\n",
    "\n",
    "\n",
    "r_constants=[]\n",
    "\n",
    "for r in range(rounds):\n",
    "    tmp=[]\n",
    "    for i in range(4):\n",
    "        tmp.append(F.random_element())\n",
    "    r_constants.append(tmp)\n",
    "\n",
    "# print(len(r_constants[0][:3]))\n",
    "\n",
    "for r in range(rounds):\n",
    "    rc=vector(r_constants[r][:3])\n",
    "    rc4=r_constants[r][3]\n",
    "    # rc4=1\n",
    "    m=matrix(F,[[0,0,1],[1,rc4,rc4],[0,1,1]])\n",
    "    states[2]+=states[0]*states[1]\n",
    "    # print(states)\n",
    "    states=m*states\n",
    "    # print(states)\n",
    "    states=states+rc\n",
    "    # print(states)\n",
    "\n",
    "upbound_degree=[]\n",
    "for i in range(3):\n",
    "    # print(states[i].monomials())\n",
    "    monomials=states[i].monomials()\n",
    "    # print(\"number of monomials:\",len(monomials))\n",
    "    # print(monomials)\n",
    "    max=0\n",
    "    for m in monomials:\n",
    "        degree_x=bin(m.degree(x)).count(\"1\")\n",
    "        if degree_x>max:\n",
    "            max=degree_x\n",
    "    upbound_degree.append(max)\n",
    "\n",
    "print(\"upbound_degree x:\",upbound_degree)\n"
   ]
  }
 ],
 "metadata": {
  "kernelspec": {
   "display_name": "SageMath 9.5",
   "language": "sage",
   "name": "sagemath"
  },
  "language_info": {
   "codemirror_mode": {
    "name": "ipython",
    "version": 3
   },
   "file_extension": ".py",
   "mimetype": "text/x-python",
   "name": "python",
   "nbconvert_exporter": "python",
   "pygments_lexer": "ipython3",
   "version": "3.10.12"
  }
 },
 "nbformat": 4,
 "nbformat_minor": 2
}
